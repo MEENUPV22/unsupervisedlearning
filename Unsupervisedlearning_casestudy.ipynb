{
 "cells": [
  {
   "cell_type": "code",
   "execution_count": 4,
   "id": "1d45acf2-078d-4c1d-94aa-205e5d7d0d49",
   "metadata": {},
   "outputs": [],
   "source": [
    "import pandas as pd\n",
    "import numpy as np \n",
    "import matplotlib.pyplot as plt "
   ]
  },
  {
   "cell_type": "code",
   "execution_count": 5,
   "id": "437e82f9-1f45-4c72-aa87-c79a52cbc4e3",
   "metadata": {},
   "outputs": [],
   "source": [
    "df=pd.read_csv(\"C:\\\\Users\\\\ACER\\\\Downloads\\\\force2020_data.csv\")"
   ]
  },
  {
   "cell_type": "code",
   "execution_count": 8,
   "id": "d9475fe5-7e8b-4ac1-b6c8-f07fa5e1f6c5",
   "metadata": {},
   "outputs": [
    {
     "data": {
      "text/html": [
       "<div>\n",
       "<style scoped>\n",
       "    .dataframe tbody tr th:only-of-type {\n",
       "        vertical-align: middle;\n",
       "    }\n",
       "\n",
       "    .dataframe tbody tr th {\n",
       "        vertical-align: top;\n",
       "    }\n",
       "\n",
       "    .dataframe thead th {\n",
       "        text-align: right;\n",
       "    }\n",
       "</style>\n",
       "<table border=\"1\" class=\"dataframe\">\n",
       "  <thead>\n",
       "    <tr style=\"text-align: right;\">\n",
       "      <th></th>\n",
       "      <th>RHOB</th>\n",
       "      <th>GR</th>\n",
       "      <th>DEPTH_MD</th>\n",
       "      <th>NPHI</th>\n",
       "      <th>PEF</th>\n",
       "      <th>DTC</th>\n",
       "    </tr>\n",
       "  </thead>\n",
       "  <tbody>\n",
       "    <tr>\n",
       "      <th>0</th>\n",
       "      <td>1.884186</td>\n",
       "      <td>80.200851</td>\n",
       "      <td>494.528</td>\n",
       "      <td>NaN</td>\n",
       "      <td>20.915468</td>\n",
       "      <td>161.131180</td>\n",
       "    </tr>\n",
       "    <tr>\n",
       "      <th>1</th>\n",
       "      <td>1.889794</td>\n",
       "      <td>79.262886</td>\n",
       "      <td>494.680</td>\n",
       "      <td>NaN</td>\n",
       "      <td>19.383013</td>\n",
       "      <td>160.603470</td>\n",
       "    </tr>\n",
       "    <tr>\n",
       "      <th>2</th>\n",
       "      <td>1.896523</td>\n",
       "      <td>74.821999</td>\n",
       "      <td>494.832</td>\n",
       "      <td>NaN</td>\n",
       "      <td>22.591518</td>\n",
       "      <td>160.173615</td>\n",
       "    </tr>\n",
       "    <tr>\n",
       "      <th>3</th>\n",
       "      <td>1.891913</td>\n",
       "      <td>72.878922</td>\n",
       "      <td>494.984</td>\n",
       "      <td>NaN</td>\n",
       "      <td>32.191910</td>\n",
       "      <td>160.149429</td>\n",
       "    </tr>\n",
       "    <tr>\n",
       "      <th>4</th>\n",
       "      <td>1.880034</td>\n",
       "      <td>71.729141</td>\n",
       "      <td>495.136</td>\n",
       "      <td>NaN</td>\n",
       "      <td>38.495632</td>\n",
       "      <td>160.128342</td>\n",
       "    </tr>\n",
       "    <tr>\n",
       "      <th>...</th>\n",
       "      <td>...</td>\n",
       "      <td>...</td>\n",
       "      <td>...</td>\n",
       "      <td>...</td>\n",
       "      <td>...</td>\n",
       "      <td>...</td>\n",
       "    </tr>\n",
       "    <tr>\n",
       "      <th>18265</th>\n",
       "      <td>2.630211</td>\n",
       "      <td>19.418915</td>\n",
       "      <td>3271.416</td>\n",
       "      <td>0.187811</td>\n",
       "      <td>NaN</td>\n",
       "      <td>NaN</td>\n",
       "    </tr>\n",
       "    <tr>\n",
       "      <th>18266</th>\n",
       "      <td>2.643114</td>\n",
       "      <td>21.444370</td>\n",
       "      <td>3271.568</td>\n",
       "      <td>0.185574</td>\n",
       "      <td>NaN</td>\n",
       "      <td>NaN</td>\n",
       "    </tr>\n",
       "    <tr>\n",
       "      <th>18267</th>\n",
       "      <td>2.681300</td>\n",
       "      <td>22.646879</td>\n",
       "      <td>3271.720</td>\n",
       "      <td>0.176074</td>\n",
       "      <td>NaN</td>\n",
       "      <td>NaN</td>\n",
       "    </tr>\n",
       "    <tr>\n",
       "      <th>18268</th>\n",
       "      <td>2.738337</td>\n",
       "      <td>22.253584</td>\n",
       "      <td>3271.872</td>\n",
       "      <td>0.174617</td>\n",
       "      <td>NaN</td>\n",
       "      <td>NaN</td>\n",
       "    </tr>\n",
       "    <tr>\n",
       "      <th>18269</th>\n",
       "      <td>2.792922</td>\n",
       "      <td>19.829920</td>\n",
       "      <td>3272.024</td>\n",
       "      <td>0.176627</td>\n",
       "      <td>NaN</td>\n",
       "      <td>NaN</td>\n",
       "    </tr>\n",
       "  </tbody>\n",
       "</table>\n",
       "<p>18270 rows × 6 columns</p>\n",
       "</div>"
      ],
      "text/plain": [
       "           RHOB         GR  DEPTH_MD      NPHI        PEF         DTC\n",
       "0      1.884186  80.200851   494.528       NaN  20.915468  161.131180\n",
       "1      1.889794  79.262886   494.680       NaN  19.383013  160.603470\n",
       "2      1.896523  74.821999   494.832       NaN  22.591518  160.173615\n",
       "3      1.891913  72.878922   494.984       NaN  32.191910  160.149429\n",
       "4      1.880034  71.729141   495.136       NaN  38.495632  160.128342\n",
       "...         ...        ...       ...       ...        ...         ...\n",
       "18265  2.630211  19.418915  3271.416  0.187811        NaN         NaN\n",
       "18266  2.643114  21.444370  3271.568  0.185574        NaN         NaN\n",
       "18267  2.681300  22.646879  3271.720  0.176074        NaN         NaN\n",
       "18268  2.738337  22.253584  3271.872  0.174617        NaN         NaN\n",
       "18269  2.792922  19.829920  3272.024  0.176627        NaN         NaN\n",
       "\n",
       "[18270 rows x 6 columns]"
      ]
     },
     "execution_count": 8,
     "metadata": {},
     "output_type": "execute_result"
    }
   ],
   "source": [
    "df"
   ]
  },
  {
   "cell_type": "code",
   "execution_count": 10,
   "id": "b182030e-e1df-4199-9154-2969f4ff00d9",
   "metadata": {},
   "outputs": [
    {
     "data": {
      "text/html": [
       "<div>\n",
       "<style scoped>\n",
       "    .dataframe tbody tr th:only-of-type {\n",
       "        vertical-align: middle;\n",
       "    }\n",
       "\n",
       "    .dataframe tbody tr th {\n",
       "        vertical-align: top;\n",
       "    }\n",
       "\n",
       "    .dataframe thead th {\n",
       "        text-align: right;\n",
       "    }\n",
       "</style>\n",
       "<table border=\"1\" class=\"dataframe\">\n",
       "  <thead>\n",
       "    <tr style=\"text-align: right;\">\n",
       "      <th></th>\n",
       "      <th>RHOB</th>\n",
       "      <th>GR</th>\n",
       "      <th>DEPTH_MD</th>\n",
       "      <th>NPHI</th>\n",
       "      <th>PEF</th>\n",
       "      <th>DTC</th>\n",
       "    </tr>\n",
       "  </thead>\n",
       "  <tbody>\n",
       "    <tr>\n",
       "      <th>count</th>\n",
       "      <td>18270.000000</td>\n",
       "      <td>18270.000000</td>\n",
       "      <td>18270.000000</td>\n",
       "      <td>14032.000000</td>\n",
       "      <td>16440.000000</td>\n",
       "      <td>18189.000000</td>\n",
       "    </tr>\n",
       "    <tr>\n",
       "      <th>mean</th>\n",
       "      <td>2.110451</td>\n",
       "      <td>63.847477</td>\n",
       "      <td>1883.228478</td>\n",
       "      <td>0.404547</td>\n",
       "      <td>3.463851</td>\n",
       "      <td>125.106178</td>\n",
       "    </tr>\n",
       "    <tr>\n",
       "      <th>std</th>\n",
       "      <td>0.297725</td>\n",
       "      <td>28.636331</td>\n",
       "      <td>801.941195</td>\n",
       "      <td>0.133532</td>\n",
       "      <td>2.561239</td>\n",
       "      <td>30.618337</td>\n",
       "    </tr>\n",
       "    <tr>\n",
       "      <th>min</th>\n",
       "      <td>1.404576</td>\n",
       "      <td>6.191506</td>\n",
       "      <td>494.528000</td>\n",
       "      <td>0.024330</td>\n",
       "      <td>1.010027</td>\n",
       "      <td>55.726753</td>\n",
       "    </tr>\n",
       "    <tr>\n",
       "      <th>25%</th>\n",
       "      <td>1.963399</td>\n",
       "      <td>43.866690</td>\n",
       "      <td>1188.750000</td>\n",
       "      <td>0.315346</td>\n",
       "      <td>2.320836</td>\n",
       "      <td>90.883087</td>\n",
       "    </tr>\n",
       "    <tr>\n",
       "      <th>50%</th>\n",
       "      <td>2.055079</td>\n",
       "      <td>66.777851</td>\n",
       "      <td>1882.972000</td>\n",
       "      <td>0.448527</td>\n",
       "      <td>2.790249</td>\n",
       "      <td>141.300461</td>\n",
       "    </tr>\n",
       "    <tr>\n",
       "      <th>75%</th>\n",
       "      <td>2.381963</td>\n",
       "      <td>81.542681</td>\n",
       "      <td>2577.802000</td>\n",
       "      <td>0.506343</td>\n",
       "      <td>4.267342</td>\n",
       "      <td>148.048355</td>\n",
       "    </tr>\n",
       "    <tr>\n",
       "      <th>max</th>\n",
       "      <td>2.927888</td>\n",
       "      <td>499.022583</td>\n",
       "      <td>3272.024000</td>\n",
       "      <td>0.800262</td>\n",
       "      <td>66.030319</td>\n",
       "      <td>175.953140</td>\n",
       "    </tr>\n",
       "  </tbody>\n",
       "</table>\n",
       "</div>"
      ],
      "text/plain": [
       "               RHOB            GR      DEPTH_MD          NPHI           PEF  \\\n",
       "count  18270.000000  18270.000000  18270.000000  14032.000000  16440.000000   \n",
       "mean       2.110451     63.847477   1883.228478      0.404547      3.463851   \n",
       "std        0.297725     28.636331    801.941195      0.133532      2.561239   \n",
       "min        1.404576      6.191506    494.528000      0.024330      1.010027   \n",
       "25%        1.963399     43.866690   1188.750000      0.315346      2.320836   \n",
       "50%        2.055079     66.777851   1882.972000      0.448527      2.790249   \n",
       "75%        2.381963     81.542681   2577.802000      0.506343      4.267342   \n",
       "max        2.927888    499.022583   3272.024000      0.800262     66.030319   \n",
       "\n",
       "                DTC  \n",
       "count  18189.000000  \n",
       "mean     125.106178  \n",
       "std       30.618337  \n",
       "min       55.726753  \n",
       "25%       90.883087  \n",
       "50%      141.300461  \n",
       "75%      148.048355  \n",
       "max      175.953140  "
      ]
     },
     "execution_count": 10,
     "metadata": {},
     "output_type": "execute_result"
    }
   ],
   "source": [
    "df.describe()"
   ]
  },
  {
   "cell_type": "code",
   "execution_count": 12,
   "id": "7ed8b059-ad23-4c54-a25e-56c78b57d8e6",
   "metadata": {},
   "outputs": [
    {
     "data": {
      "text/plain": [
       "(18270, 6)"
      ]
     },
     "execution_count": 12,
     "metadata": {},
     "output_type": "execute_result"
    }
   ],
   "source": [
    "df.shape"
   ]
  },
  {
   "cell_type": "code",
   "execution_count": 14,
   "id": "f400bcf7-14be-43b0-9f46-c0c9a83967e0",
   "metadata": {},
   "outputs": [
    {
     "data": {
      "text/plain": [
       "109620"
      ]
     },
     "execution_count": 14,
     "metadata": {},
     "output_type": "execute_result"
    }
   ],
   "source": [
    "df.size"
   ]
  },
  {
   "cell_type": "code",
   "execution_count": 16,
   "id": "7f3a12be-746b-49d1-8814-5a62208b7aeb",
   "metadata": {},
   "outputs": [
    {
     "name": "stdout",
     "output_type": "stream",
     "text": [
      "<class 'pandas.core.frame.DataFrame'>\n",
      "RangeIndex: 18270 entries, 0 to 18269\n",
      "Data columns (total 6 columns):\n",
      " #   Column    Non-Null Count  Dtype  \n",
      "---  ------    --------------  -----  \n",
      " 0   RHOB      18270 non-null  float64\n",
      " 1   GR        18270 non-null  float64\n",
      " 2   DEPTH_MD  18270 non-null  float64\n",
      " 3   NPHI      14032 non-null  float64\n",
      " 4   PEF       16440 non-null  float64\n",
      " 5   DTC       18189 non-null  float64\n",
      "dtypes: float64(6)\n",
      "memory usage: 856.5 KB\n"
     ]
    }
   ],
   "source": [
    "df.info()"
   ]
  },
  {
   "cell_type": "code",
   "execution_count": 18,
   "id": "0f7af7ec-977b-4925-be33-05bf076f356c",
   "metadata": {},
   "outputs": [
    {
     "data": {
      "text/plain": [
       "0        False\n",
       "1        False\n",
       "2        False\n",
       "3        False\n",
       "4        False\n",
       "         ...  \n",
       "18265    False\n",
       "18266    False\n",
       "18267    False\n",
       "18268    False\n",
       "18269    False\n",
       "Length: 18270, dtype: bool"
      ]
     },
     "execution_count": 18,
     "metadata": {},
     "output_type": "execute_result"
    }
   ],
   "source": [
    "df.duplicated()"
   ]
  },
  {
   "cell_type": "code",
   "execution_count": 19,
   "id": "011d6e5c-3c24-473e-8fe3-e4d37d95e0a7",
   "metadata": {},
   "outputs": [
    {
     "data": {
      "text/plain": [
       "0"
      ]
     },
     "execution_count": 19,
     "metadata": {},
     "output_type": "execute_result"
    }
   ],
   "source": [
    "df.duplicated().sum()"
   ]
  },
  {
   "cell_type": "code",
   "execution_count": 22,
   "id": "228cdd00-64e4-4c9a-a774-2d89cd712df6",
   "metadata": {},
   "outputs": [
    {
     "data": {
      "text/plain": [
       "array([False, False, False, False, False, False])"
      ]
     },
     "execution_count": 22,
     "metadata": {},
     "output_type": "execute_result"
    }
   ],
   "source": [
    "df.columns.duplicated()"
   ]
  },
  {
   "cell_type": "code",
   "execution_count": 24,
   "id": "3e46e5d1-92f3-495e-a699-6573586ee095",
   "metadata": {},
   "outputs": [
    {
     "data": {
      "text/html": [
       "<div>\n",
       "<style scoped>\n",
       "    .dataframe tbody tr th:only-of-type {\n",
       "        vertical-align: middle;\n",
       "    }\n",
       "\n",
       "    .dataframe tbody tr th {\n",
       "        vertical-align: top;\n",
       "    }\n",
       "\n",
       "    .dataframe thead th {\n",
       "        text-align: right;\n",
       "    }\n",
       "</style>\n",
       "<table border=\"1\" class=\"dataframe\">\n",
       "  <thead>\n",
       "    <tr style=\"text-align: right;\">\n",
       "      <th></th>\n",
       "      <th>RHOB</th>\n",
       "      <th>GR</th>\n",
       "      <th>DEPTH_MD</th>\n",
       "      <th>NPHI</th>\n",
       "      <th>PEF</th>\n",
       "      <th>DTC</th>\n",
       "    </tr>\n",
       "  </thead>\n",
       "  <tbody>\n",
       "    <tr>\n",
       "      <th>0</th>\n",
       "      <td>False</td>\n",
       "      <td>False</td>\n",
       "      <td>False</td>\n",
       "      <td>True</td>\n",
       "      <td>False</td>\n",
       "      <td>False</td>\n",
       "    </tr>\n",
       "    <tr>\n",
       "      <th>1</th>\n",
       "      <td>False</td>\n",
       "      <td>False</td>\n",
       "      <td>False</td>\n",
       "      <td>True</td>\n",
       "      <td>False</td>\n",
       "      <td>False</td>\n",
       "    </tr>\n",
       "    <tr>\n",
       "      <th>2</th>\n",
       "      <td>False</td>\n",
       "      <td>False</td>\n",
       "      <td>False</td>\n",
       "      <td>True</td>\n",
       "      <td>False</td>\n",
       "      <td>False</td>\n",
       "    </tr>\n",
       "    <tr>\n",
       "      <th>3</th>\n",
       "      <td>False</td>\n",
       "      <td>False</td>\n",
       "      <td>False</td>\n",
       "      <td>True</td>\n",
       "      <td>False</td>\n",
       "      <td>False</td>\n",
       "    </tr>\n",
       "    <tr>\n",
       "      <th>4</th>\n",
       "      <td>False</td>\n",
       "      <td>False</td>\n",
       "      <td>False</td>\n",
       "      <td>True</td>\n",
       "      <td>False</td>\n",
       "      <td>False</td>\n",
       "    </tr>\n",
       "    <tr>\n",
       "      <th>...</th>\n",
       "      <td>...</td>\n",
       "      <td>...</td>\n",
       "      <td>...</td>\n",
       "      <td>...</td>\n",
       "      <td>...</td>\n",
       "      <td>...</td>\n",
       "    </tr>\n",
       "    <tr>\n",
       "      <th>18265</th>\n",
       "      <td>False</td>\n",
       "      <td>False</td>\n",
       "      <td>False</td>\n",
       "      <td>False</td>\n",
       "      <td>True</td>\n",
       "      <td>True</td>\n",
       "    </tr>\n",
       "    <tr>\n",
       "      <th>18266</th>\n",
       "      <td>False</td>\n",
       "      <td>False</td>\n",
       "      <td>False</td>\n",
       "      <td>False</td>\n",
       "      <td>True</td>\n",
       "      <td>True</td>\n",
       "    </tr>\n",
       "    <tr>\n",
       "      <th>18267</th>\n",
       "      <td>False</td>\n",
       "      <td>False</td>\n",
       "      <td>False</td>\n",
       "      <td>False</td>\n",
       "      <td>True</td>\n",
       "      <td>True</td>\n",
       "    </tr>\n",
       "    <tr>\n",
       "      <th>18268</th>\n",
       "      <td>False</td>\n",
       "      <td>False</td>\n",
       "      <td>False</td>\n",
       "      <td>False</td>\n",
       "      <td>True</td>\n",
       "      <td>True</td>\n",
       "    </tr>\n",
       "    <tr>\n",
       "      <th>18269</th>\n",
       "      <td>False</td>\n",
       "      <td>False</td>\n",
       "      <td>False</td>\n",
       "      <td>False</td>\n",
       "      <td>True</td>\n",
       "      <td>True</td>\n",
       "    </tr>\n",
       "  </tbody>\n",
       "</table>\n",
       "<p>18270 rows × 6 columns</p>\n",
       "</div>"
      ],
      "text/plain": [
       "        RHOB     GR  DEPTH_MD   NPHI    PEF    DTC\n",
       "0      False  False     False   True  False  False\n",
       "1      False  False     False   True  False  False\n",
       "2      False  False     False   True  False  False\n",
       "3      False  False     False   True  False  False\n",
       "4      False  False     False   True  False  False\n",
       "...      ...    ...       ...    ...    ...    ...\n",
       "18265  False  False     False  False   True   True\n",
       "18266  False  False     False  False   True   True\n",
       "18267  False  False     False  False   True   True\n",
       "18268  False  False     False  False   True   True\n",
       "18269  False  False     False  False   True   True\n",
       "\n",
       "[18270 rows x 6 columns]"
      ]
     },
     "execution_count": 24,
     "metadata": {},
     "output_type": "execute_result"
    }
   ],
   "source": [
    "df.isna()"
   ]
  },
  {
   "cell_type": "code",
   "execution_count": 26,
   "id": "2073ecaa-689f-4e22-9a79-e16e06361422",
   "metadata": {},
   "outputs": [
    {
     "data": {
      "text/plain": [
       "RHOB           0\n",
       "GR             0\n",
       "DEPTH_MD       0\n",
       "NPHI        4238\n",
       "PEF         1830\n",
       "DTC           81\n",
       "dtype: int64"
      ]
     },
     "execution_count": 26,
     "metadata": {},
     "output_type": "execute_result"
    }
   ],
   "source": [
    "df.isna().sum()"
   ]
  },
  {
   "cell_type": "code",
   "execution_count": 28,
   "id": "127b3205-5590-4a88-94ad-16e59f3c1718",
   "metadata": {},
   "outputs": [
    {
     "data": {
      "text/plain": [
       "RHOB        float64\n",
       "GR          float64\n",
       "DEPTH_MD    float64\n",
       "NPHI        float64\n",
       "PEF         float64\n",
       "DTC         float64\n",
       "dtype: object"
      ]
     },
     "execution_count": 28,
     "metadata": {},
     "output_type": "execute_result"
    }
   ],
   "source": [
    "df.dtypes"
   ]
  },
  {
   "cell_type": "code",
   "execution_count": 30,
   "id": "b850f035-1496-45e6-be9c-409c38c98670",
   "metadata": {},
   "outputs": [],
   "source": [
    "df.fillna(df.mean(),inplace=True)"
   ]
  },
  {
   "cell_type": "code",
   "execution_count": 32,
   "id": "3664b475-248c-4345-9166-b105d0dd5369",
   "metadata": {},
   "outputs": [
    {
     "data": {
      "text/html": [
       "<div>\n",
       "<style scoped>\n",
       "    .dataframe tbody tr th:only-of-type {\n",
       "        vertical-align: middle;\n",
       "    }\n",
       "\n",
       "    .dataframe tbody tr th {\n",
       "        vertical-align: top;\n",
       "    }\n",
       "\n",
       "    .dataframe thead th {\n",
       "        text-align: right;\n",
       "    }\n",
       "</style>\n",
       "<table border=\"1\" class=\"dataframe\">\n",
       "  <thead>\n",
       "    <tr style=\"text-align: right;\">\n",
       "      <th></th>\n",
       "      <th>RHOB</th>\n",
       "      <th>GR</th>\n",
       "      <th>DEPTH_MD</th>\n",
       "      <th>NPHI</th>\n",
       "      <th>PEF</th>\n",
       "      <th>DTC</th>\n",
       "    </tr>\n",
       "  </thead>\n",
       "  <tbody>\n",
       "    <tr>\n",
       "      <th>0</th>\n",
       "      <td>1.884186</td>\n",
       "      <td>80.200851</td>\n",
       "      <td>494.528</td>\n",
       "      <td>0.404547</td>\n",
       "      <td>20.915468</td>\n",
       "      <td>161.131180</td>\n",
       "    </tr>\n",
       "    <tr>\n",
       "      <th>1</th>\n",
       "      <td>1.889794</td>\n",
       "      <td>79.262886</td>\n",
       "      <td>494.680</td>\n",
       "      <td>0.404547</td>\n",
       "      <td>19.383013</td>\n",
       "      <td>160.603470</td>\n",
       "    </tr>\n",
       "    <tr>\n",
       "      <th>2</th>\n",
       "      <td>1.896523</td>\n",
       "      <td>74.821999</td>\n",
       "      <td>494.832</td>\n",
       "      <td>0.404547</td>\n",
       "      <td>22.591518</td>\n",
       "      <td>160.173615</td>\n",
       "    </tr>\n",
       "    <tr>\n",
       "      <th>3</th>\n",
       "      <td>1.891913</td>\n",
       "      <td>72.878922</td>\n",
       "      <td>494.984</td>\n",
       "      <td>0.404547</td>\n",
       "      <td>32.191910</td>\n",
       "      <td>160.149429</td>\n",
       "    </tr>\n",
       "    <tr>\n",
       "      <th>4</th>\n",
       "      <td>1.880034</td>\n",
       "      <td>71.729141</td>\n",
       "      <td>495.136</td>\n",
       "      <td>0.404547</td>\n",
       "      <td>38.495632</td>\n",
       "      <td>160.128342</td>\n",
       "    </tr>\n",
       "    <tr>\n",
       "      <th>...</th>\n",
       "      <td>...</td>\n",
       "      <td>...</td>\n",
       "      <td>...</td>\n",
       "      <td>...</td>\n",
       "      <td>...</td>\n",
       "      <td>...</td>\n",
       "    </tr>\n",
       "    <tr>\n",
       "      <th>18265</th>\n",
       "      <td>2.630211</td>\n",
       "      <td>19.418915</td>\n",
       "      <td>3271.416</td>\n",
       "      <td>0.187811</td>\n",
       "      <td>3.463851</td>\n",
       "      <td>125.106178</td>\n",
       "    </tr>\n",
       "    <tr>\n",
       "      <th>18266</th>\n",
       "      <td>2.643114</td>\n",
       "      <td>21.444370</td>\n",
       "      <td>3271.568</td>\n",
       "      <td>0.185574</td>\n",
       "      <td>3.463851</td>\n",
       "      <td>125.106178</td>\n",
       "    </tr>\n",
       "    <tr>\n",
       "      <th>18267</th>\n",
       "      <td>2.681300</td>\n",
       "      <td>22.646879</td>\n",
       "      <td>3271.720</td>\n",
       "      <td>0.176074</td>\n",
       "      <td>3.463851</td>\n",
       "      <td>125.106178</td>\n",
       "    </tr>\n",
       "    <tr>\n",
       "      <th>18268</th>\n",
       "      <td>2.738337</td>\n",
       "      <td>22.253584</td>\n",
       "      <td>3271.872</td>\n",
       "      <td>0.174617</td>\n",
       "      <td>3.463851</td>\n",
       "      <td>125.106178</td>\n",
       "    </tr>\n",
       "    <tr>\n",
       "      <th>18269</th>\n",
       "      <td>2.792922</td>\n",
       "      <td>19.829920</td>\n",
       "      <td>3272.024</td>\n",
       "      <td>0.176627</td>\n",
       "      <td>3.463851</td>\n",
       "      <td>125.106178</td>\n",
       "    </tr>\n",
       "  </tbody>\n",
       "</table>\n",
       "<p>18270 rows × 6 columns</p>\n",
       "</div>"
      ],
      "text/plain": [
       "           RHOB         GR  DEPTH_MD      NPHI        PEF         DTC\n",
       "0      1.884186  80.200851   494.528  0.404547  20.915468  161.131180\n",
       "1      1.889794  79.262886   494.680  0.404547  19.383013  160.603470\n",
       "2      1.896523  74.821999   494.832  0.404547  22.591518  160.173615\n",
       "3      1.891913  72.878922   494.984  0.404547  32.191910  160.149429\n",
       "4      1.880034  71.729141   495.136  0.404547  38.495632  160.128342\n",
       "...         ...        ...       ...       ...        ...         ...\n",
       "18265  2.630211  19.418915  3271.416  0.187811   3.463851  125.106178\n",
       "18266  2.643114  21.444370  3271.568  0.185574   3.463851  125.106178\n",
       "18267  2.681300  22.646879  3271.720  0.176074   3.463851  125.106178\n",
       "18268  2.738337  22.253584  3271.872  0.174617   3.463851  125.106178\n",
       "18269  2.792922  19.829920  3272.024  0.176627   3.463851  125.106178\n",
       "\n",
       "[18270 rows x 6 columns]"
      ]
     },
     "execution_count": 32,
     "metadata": {},
     "output_type": "execute_result"
    }
   ],
   "source": [
    "df"
   ]
  },
  {
   "cell_type": "code",
   "execution_count": 34,
   "id": "23153fa0-3b72-4db3-8c5a-847cc6a83317",
   "metadata": {},
   "outputs": [
    {
     "data": {
      "text/plain": [
       "RHOB        0\n",
       "GR          0\n",
       "DEPTH_MD    0\n",
       "NPHI        0\n",
       "PEF         0\n",
       "DTC         0\n",
       "dtype: int64"
      ]
     },
     "execution_count": 34,
     "metadata": {},
     "output_type": "execute_result"
    }
   ],
   "source": [
    "df.isna().sum()"
   ]
  },
  {
   "cell_type": "markdown",
   "id": "7dcf492f-b55f-4ef3-a823-024d52555118",
   "metadata": {},
   "source": [
    "### Preprocessing"
   ]
  },
  {
   "cell_type": "code",
   "execution_count": 37,
   "id": "fed61eb3-c480-41f5-a768-6c5c0bcd7aa8",
   "metadata": {},
   "outputs": [
    {
     "data": {
      "image/png": "[encoded data removed]",
      "text/plain": [
       "<Figure size 640x480 with 1 Axes>"
      ]
     },
     "metadata": {},
     "output_type": "display_data"
    }
   ],
   "source": [
    "df.boxplot()\n",
    "plt.show()"
   ]
  },
  {
   "cell_type": "code",
   "execution_count": 38,
   "id": "177acf8d-55a6-4b3b-9f5d-ea414ad7f9f2",
   "metadata": {},
   "outputs": [],
   "source": [
    "def remove_outliers (df,column_name):\n",
    "    q1 = df[column_name].quantile(0.25)\n",
    "    q3 = df[column_name].quantile(0.75)\n",
    "    IQR = q3 - q1\n",
    "    upper_bound = q3 + 1.5 * IQR\n",
    "    lower_bound = q1 - 1.5 * IQR\n",
    "    df[column_name] =   df[column_name].clip(upper = upper_bound)\n",
    "    df[column_name] =   df[column_name].clip(lower = lower_bound)\n",
    "    return df[column_name]"
   ]
  },
  {
   "cell_type": "code",
   "execution_count": 39,
   "id": "6249dc4d-ea2c-4d7d-bb43-c2a063620a31",
   "metadata": {},
   "outputs": [],
   "source": [
    "for col in df:\n",
    "    df[col] = remove_outliers(df,col)"
   ]
  },
  {
   "cell_type": "code",
   "execution_count": 40,
   "id": "b9d898da-45de-4e16-98fd-0a3f687aba0f",
   "metadata": {},
   "outputs": [
    {
     "data": {
      "image/png": "[encoded data removed]",
      "text/plain": [
       "<Figure size 640x480 with 1 Axes>"
      ]
     },
     "metadata": {},
     "output_type": "display_data"
    }
   ],
   "source": [
    "df.boxplot()\n",
    "plt.xticks(rotation = 45)\n",
    "plt.show()"
   ]
  },
  {
   "cell_type": "code",
   "execution_count": 44,
   "id": "43324616-4b5e-4e75-9c97-eb0ca64f88e4",
   "metadata": {},
   "outputs": [
    {
     "data": {
      "image/png": "[encoded data removed]",
      "text/plain": [
       "<Figure size 640x480 with 1 Axes>"
      ]
     },
     "metadata": {},
     "output_type": "display_data"
    },
    {
     "data": {
      "image/png": "[encoded data removed]",
      "text/plain": [
       "<Figure size 640x480 with 1 Axes>"
      ]
     },
     "metadata": {},
     "output_type": "display_data"
    },
    {
     "data": {
      "image/png": "[encoded data removed]",
      "text/plain": [
       "<Figure size 640x480 with 1 Axes>"
      ]
     },
     "metadata": {},
     "output_type": "display_data"
    },
    {
     "data": {
      "image/png": "[encoded data removed]",
      "text/plain": [
       "<Figure size 640x480 with 1 Axes>"
      ]
     },
     "metadata": {},
     "output_type": "display_data"
    },
    {
     "data": {
      "image/png": "[encoded data removed]",
      "text/plain": [
       "<Figure size 640x480 with 1 Axes>"
      ]
     },
     "metadata": {},
     "output_type": "display_data"
    },
    {
     "data": {
      "image/png": "[encoded data removed]",
      "text/plain": [
       "<Figure size 640x480 with 1 Axes>"
      ]
     },
     "metadata": {},
     "output_type": "display_data"
    }
   ],
   "source": [
    "for column_name in df:\n",
    "    plt.hist(df[column_name])\n",
    "    plt.title(\"histogram of {} column\".format(column_name))\n",
    "    plt.xlabel(column_name)\n",
    "    plt.show()"
   ]
  },
  {
   "cell_type": "markdown",
   "id": "8bbf23c1-e10e-4334-9cae-798cbbc149f8",
   "metadata": {},
   "source": [
    "### Scaling"
   ]
  },
  {
   "cell_type": "code",
   "execution_count": 48,
   "id": "729ad53a-0772-4ed0-a63a-40df36d71968",
   "metadata": {},
   "outputs": [],
   "source": [
    "from sklearn.preprocessing import StandardScaler\n",
    "std_scaler= StandardScaler()"
   ]
  },
  {
   "cell_type": "code",
   "execution_count": 49,
   "id": "7164ba92-39d1-4515-93fd-4d62e06c0036",
   "metadata": {},
   "outputs": [],
   "source": [
    "std_cols=df.columns"
   ]
  },
  {
   "cell_type": "code",
   "execution_count": 50,
   "id": "6621f8bb-bc94-46d0-944c-0212a7c8e2b0",
   "metadata": {},
   "outputs": [
    {
     "data": {
      "text/plain": [
       "Index(['RHOB', 'GR', 'DEPTH_MD', 'NPHI', 'PEF', 'DTC'], dtype='object')"
      ]
     },
     "execution_count": 50,
     "metadata": {},
     "output_type": "execute_result"
    }
   ],
   "source": [
    "std_cols"
   ]
  },
  {
   "cell_type": "code",
   "execution_count": 51,
   "id": "d0874ce8-768b-49fe-87c9-8037e016aa2d",
   "metadata": {},
   "outputs": [
    {
     "data": {
      "text/html": [
       "<div>\n",
       "<style scoped>\n",
       "    .dataframe tbody tr th:only-of-type {\n",
       "        vertical-align: middle;\n",
       "    }\n",
       "\n",
       "    .dataframe tbody tr th {\n",
       "        vertical-align: top;\n",
       "    }\n",
       "\n",
       "    .dataframe thead th {\n",
       "        text-align: right;\n",
       "    }\n",
       "</style>\n",
       "<table border=\"1\" class=\"dataframe\">\n",
       "  <thead>\n",
       "    <tr style=\"text-align: right;\">\n",
       "      <th></th>\n",
       "      <th>RHOB</th>\n",
       "      <th>GR</th>\n",
       "      <th>DEPTH_MD</th>\n",
       "      <th>NPHI</th>\n",
       "      <th>PEF</th>\n",
       "      <th>DTC</th>\n",
       "    </tr>\n",
       "  </thead>\n",
       "  <tbody>\n",
       "    <tr>\n",
       "      <th>0</th>\n",
       "      <td>-0.759999</td>\n",
       "      <td>0.648114</td>\n",
       "      <td>-1.731721</td>\n",
       "      <td>-0.008241</td>\n",
       "      <td>2.358218</td>\n",
       "      <td>1.179232</td>\n",
       "    </tr>\n",
       "    <tr>\n",
       "      <th>1</th>\n",
       "      <td>-0.741163</td>\n",
       "      <td>0.612133</td>\n",
       "      <td>-1.731532</td>\n",
       "      <td>-0.008241</td>\n",
       "      <td>2.358218</td>\n",
       "      <td>1.161958</td>\n",
       "    </tr>\n",
       "    <tr>\n",
       "      <th>2</th>\n",
       "      <td>-0.718560</td>\n",
       "      <td>0.441774</td>\n",
       "      <td>-1.731342</td>\n",
       "      <td>-0.008241</td>\n",
       "      <td>2.358218</td>\n",
       "      <td>1.147887</td>\n",
       "    </tr>\n",
       "    <tr>\n",
       "      <th>3</th>\n",
       "      <td>-0.734045</td>\n",
       "      <td>0.367235</td>\n",
       "      <td>-1.731152</td>\n",
       "      <td>-0.008241</td>\n",
       "      <td>2.358218</td>\n",
       "      <td>1.147096</td>\n",
       "    </tr>\n",
       "    <tr>\n",
       "      <th>4</th>\n",
       "      <td>-0.773944</td>\n",
       "      <td>0.323128</td>\n",
       "      <td>-1.730963</td>\n",
       "      <td>-0.008241</td>\n",
       "      <td>2.358218</td>\n",
       "      <td>1.146405</td>\n",
       "    </tr>\n",
       "  </tbody>\n",
       "</table>\n",
       "</div>"
      ],
      "text/plain": [
       "       RHOB        GR  DEPTH_MD      NPHI       PEF       DTC\n",
       "0 -0.759999  0.648114 -1.731721 -0.008241  2.358218  1.179232\n",
       "1 -0.741163  0.612133 -1.731532 -0.008241  2.358218  1.161958\n",
       "2 -0.718560  0.441774 -1.731342 -0.008241  2.358218  1.147887\n",
       "3 -0.734045  0.367235 -1.731152 -0.008241  2.358218  1.147096\n",
       "4 -0.773944  0.323128 -1.730963 -0.008241  2.358218  1.146405"
      ]
     },
     "execution_count": 51,
     "metadata": {},
     "output_type": "execute_result"
    }
   ],
   "source": [
    "df[std_cols]= std_scaler.fit_transform(df[std_cols])\n",
    "df.head()"
   ]
  },
  {
   "cell_type": "code",
   "execution_count": 52,
   "id": "4ce44640-8045-4391-a8ae-4d7d63303154",
   "metadata": {},
   "outputs": [
    {
     "data": {
      "image/png": "[encoded data removed]",
      "text/plain": [
       "<Figure size 640x480 with 1 Axes>"
      ]
     },
     "metadata": {},
     "output_type": "display_data"
    },
    {
     "data": {
      "image/png": "[encoded data removed]",
      "text/plain": [
       "<Figure size 640x480 with 1 Axes>"
      ]
     },
     "metadata": {},
     "output_type": "display_data"
    },
    {
     "data": {
      "image/png": "[encoded data removed]",
      "text/plain": [
       "<Figure size 640x480 with 1 Axes>"
      ]
     },
     "metadata": {},
     "output_type": "display_data"
    },
    {
     "data": {
      "image/png": "[encoded data removed]",
      "text/plain": [
       "<Figure size 640x480 with 1 Axes>"
      ]
     },
     "metadata": {},
     "output_type": "display_data"
    },
    {
     "data": {
      "image/png": "[encoded data removed]",
      "text/plain": [
       "<Figure size 640x480 with 1 Axes>"
      ]
     },
     "metadata": {},
     "output_type": "display_data"
    },
    {
     "data": {
      "image/png": "[encoded data removed]",
      "text/plain": [
       "<Figure size 640x480 with 1 Axes>"
      ]
     },
     "metadata": {},
     "output_type": "display_data"
    }
   ],
   "source": [
    "for col in std_cols:\n",
    "    plt.hist(df[col], bins=30, color='green', alpha=0.7)\n",
    "    plt.xlabel(col)\n",
    "    plt.title(f\"Histogram for {col}\")\n",
    "    plt.show()"
   ]
  },
  {
   "cell_type": "code",
   "execution_count": 53,
   "id": "692292d1-d5af-43f6-859b-5d6514499195",
   "metadata": {},
   "outputs": [
    {
     "data": {
      "text/html": [
       "<div>\n",
       "<style scoped>\n",
       "    .dataframe tbody tr th:only-of-type {\n",
       "        vertical-align: middle;\n",
       "    }\n",
       "\n",
       "    .dataframe tbody tr th {\n",
       "        vertical-align: top;\n",
       "    }\n",
       "\n",
       "    .dataframe thead th {\n",
       "        text-align: right;\n",
       "    }\n",
       "</style>\n",
       "<table border=\"1\" class=\"dataframe\">\n",
       "  <thead>\n",
       "    <tr style=\"text-align: right;\">\n",
       "      <th></th>\n",
       "      <th>RHOB</th>\n",
       "      <th>GR</th>\n",
       "      <th>DEPTH_MD</th>\n",
       "      <th>NPHI</th>\n",
       "      <th>PEF</th>\n",
       "      <th>DTC</th>\n",
       "    </tr>\n",
       "  </thead>\n",
       "  <tbody>\n",
       "    <tr>\n",
       "      <th>0</th>\n",
       "      <td>-0.759999</td>\n",
       "      <td>0.648114</td>\n",
       "      <td>-1.731721</td>\n",
       "      <td>-0.008241</td>\n",
       "      <td>2.358218</td>\n",
       "      <td>1.179232</td>\n",
       "    </tr>\n",
       "    <tr>\n",
       "      <th>1</th>\n",
       "      <td>-0.741163</td>\n",
       "      <td>0.612133</td>\n",
       "      <td>-1.731532</td>\n",
       "      <td>-0.008241</td>\n",
       "      <td>2.358218</td>\n",
       "      <td>1.161958</td>\n",
       "    </tr>\n",
       "    <tr>\n",
       "      <th>2</th>\n",
       "      <td>-0.718560</td>\n",
       "      <td>0.441774</td>\n",
       "      <td>-1.731342</td>\n",
       "      <td>-0.008241</td>\n",
       "      <td>2.358218</td>\n",
       "      <td>1.147887</td>\n",
       "    </tr>\n",
       "    <tr>\n",
       "      <th>3</th>\n",
       "      <td>-0.734045</td>\n",
       "      <td>0.367235</td>\n",
       "      <td>-1.731152</td>\n",
       "      <td>-0.008241</td>\n",
       "      <td>2.358218</td>\n",
       "      <td>1.147096</td>\n",
       "    </tr>\n",
       "    <tr>\n",
       "      <th>4</th>\n",
       "      <td>-0.773944</td>\n",
       "      <td>0.323128</td>\n",
       "      <td>-1.730963</td>\n",
       "      <td>-0.008241</td>\n",
       "      <td>2.358218</td>\n",
       "      <td>1.146405</td>\n",
       "    </tr>\n",
       "  </tbody>\n",
       "</table>\n",
       "</div>"
      ],
      "text/plain": [
       "       RHOB        GR  DEPTH_MD      NPHI       PEF       DTC\n",
       "0 -0.759999  0.648114 -1.731721 -0.008241  2.358218  1.179232\n",
       "1 -0.741163  0.612133 -1.731532 -0.008241  2.358218  1.161958\n",
       "2 -0.718560  0.441774 -1.731342 -0.008241  2.358218  1.147887\n",
       "3 -0.734045  0.367235 -1.731152 -0.008241  2.358218  1.147096\n",
       "4 -0.773944  0.323128 -1.730963 -0.008241  2.358218  1.146405"
      ]
     },
     "execution_count": 53,
     "metadata": {},
     "output_type": "execute_result"
    }
   ],
   "source": [
    "df.head()"
   ]
  },
  {
   "cell_type": "code",
   "execution_count": null,
   "id": "0eabd320-e60e-4c5d-8015-caf10990116c",
   "metadata": {},
   "outputs": [],
   "source": [
    "import seaborn as sns"
   ]
  },
  {
   "cell_type": "code",
   "execution_count": null,
   "id": "642ab4cd-c889-4cac-8f96-3407b7bf0d96",
   "metadata": {},
   "outputs": [],
   "source": [
    "plt.figure(figsize=(12, 8))\n",
    "sns.heatmap(df.corr(), annot =True, cmap = 'coolwarm')\n",
    "plt.show()"
   ]
  },
  {
   "cell_type": "markdown",
   "id": "67b93895-5b6f-4d01-b111-e1879c646a1d",
   "metadata": {},
   "source": [
    "####  K-Means clustering"
   ]
  },
  {
   "cell_type": "code",
   "execution_count": null,
   "id": "7aa8e710-e55d-4f5f-91a7-d05c04566188",
   "metadata": {},
   "outputs": [],
   "source": [
    "#plt.scatter(df[['RHOB']],df[['GR']])"
   ]
  },
  {
   "cell_type": "code",
   "execution_count": null,
   "id": "42e0fd69-411a-47fd-ae43-6a7db8164407",
   "metadata": {},
   "outputs": [],
   "source": [
    "from sklearn.cluster import KMeans"
   ]
  },
  {
   "cell_type": "code",
   "execution_count": null,
   "id": "2780df1a-9195-4983-a9f7-f51111f60827",
   "metadata": {},
   "outputs": [],
   "source": [
    "x=df[['RHOB','NPHI','DEPTH_MD','PEF','DTC','GR']]\n",
    "x.head()"
   ]
  },
  {
   "cell_type": "code",
   "execution_count": null,
   "id": "e9ad5033-3585-4f81-b394-efb39bee479f",
   "metadata": {},
   "outputs": [],
   "source": [
    "wcss = []\n",
    "for i in range(1,11):\n",
    "  kmeans = KMeans(n_clusters = i, init = 'k-means++',\n",
    "                  max_iter=300, n_init=10, random_state=0)\n",
    "  kmeans.fit(x)\n",
    "  wcss.append(kmeans.inertia_)"
   ]
  },
  {
   "cell_type": "code",
   "execution_count": null,
   "id": "2ca8dc45-a609-4509-91d3-18d20879096e",
   "metadata": {},
   "outputs": [],
   "source": [
    "# plotting the elbow method\n",
    "plt.figure(figsize = (10,6))\n",
    "plt.plot(range(1,11), wcss,marker = 'o')\n",
    "plt.title('Elbow Method')\n",
    "plt.xlabel('Number of Clusters')\n",
    "plt.ylabel('WCSS')\n",
    "plt.show()"
   ]
  },
  {
   "cell_type": "code",
   "execution_count": null,
   "id": "6e804670-1b6e-4dd6-95be-ce7e7a594d0e",
   "metadata": {},
   "outputs": [],
   "source": [
    "# applying k means clustering with optimal number of clusters\n",
    "kmeans = KMeans(n_clusters = 3, init = 'k-means++',\n",
    "                max_iter = 500, n_init = 10, random_state = 0)\n",
    "\n",
    "y_kmeans = kmeans.fit_predict(x)"
   ]
  },
  {
   "cell_type": "code",
   "execution_count": null,
   "id": "ef0df3d5-f117-433b-ae09-e699908a389b",
   "metadata": {},
   "outputs": [],
   "source": [
    "# Adding cluster labels to the dataset\n",
    "df['Cluster'] = y_kmeans\n",
    "df\n"
   ]
  },
  {
   "cell_type": "code",
   "execution_count": null,
   "id": "708be3ea-eddd-43ef-9292-f75c39bc47cd",
   "metadata": {},
   "outputs": [],
   "source": [
    "# assigning custom colors to clusters\n",
    "colors = ['r','g','b','y','m']\n",
    "\n",
    "for i in range(5):\n",
    "  cluster_df = x[y_kmeans ==i]\n",
    "  plt.scatter(cluster_df['RHOB'],\n",
    "              cluster_df['DTC'],\n",
    "              c=colors[i],\n",
    "              )\n",
    "  plt.legend()\n",
    "plt.show()"
   ]
  },
  {
   "cell_type": "code",
   "execution_count": null,
   "id": "694ade20-4775-4a8a-8bfa-08db41a91a93",
   "metadata": {},
   "outputs": [],
   "source": [
    "df['Cluster'].value_counts()"
   ]
  },
  {
   "cell_type": "code",
   "execution_count": null,
   "id": "1cf6072b-0296-4eff-94af-6dd718022d4c",
   "metadata": {},
   "outputs": [],
   "source": [
    "from sklearn.metrics import silhouette_score\n",
    "  #Silhouette score of kmeans clustering\n",
    "silhouette_avg1 = silhouette_score(x, y_kmeans)\n",
    "print(silhouette_avg1)"
   ]
  },
  {
   "cell_type": "code",
   "execution_count": null,
   "id": "1f2f16a8-97e7-4c35-95eb-c29749d56dba",
   "metadata": {},
   "outputs": [],
   "source": []
  },
  {
   "cell_type": "code",
   "execution_count": null,
   "id": "ecba85a7-4370-4e9e-87a2-7a52d29dcdf1",
   "metadata": {},
   "outputs": [],
   "source": []
  }
 ],
 "metadata": {
  "kernelspec": {
   "display_name": "Python 3 (ipykernel)",
   "language": "python",
   "name": "python3"
  },
  "language_info": {
   "codemirror_mode": {
    "name": "ipython",
    "version": 3
   },
   "file_extension": ".py",
   "mimetype": "text/x-python",
   "name": "python",
   "nbconvert_exporter": "python",
   "pygments_lexer": "ipython3",
   "version": "3.12.7"
  }
 },
 "nbformat": 4,
 "nbformat_minor": 5
}
